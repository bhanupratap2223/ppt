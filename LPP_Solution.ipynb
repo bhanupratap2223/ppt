{
  "cells": [
    {
      "cell_type": "markdown",
      "metadata": {
        "id": "us0_t6SNpj4l"
      },
      "source": [
        "# Enrollment 2022MSBDA005\n",
        "NAME BHANU PRATAP\n",
        "### LPP using user input"
      ]
    },
    {
      "cell_type": "code",
      "execution_count": 27,
      "metadata": {
        "id": "UuGhGYkvCiKP"
      },
      "outputs": [],
      "source": [
        "from scipy.optimize import linprog\n",
        "import numpy as np"
      ]
    },
    {
      "cell_type": "markdown",
      "metadata": {
        "id": "3hafeyIOJ5FB"
      },
      "source": [
        "##### linprog function doesn't provide maximizatio so convert lin progriming in minimization problem by multiplying it by -1\n"
      ]
    },
    {
      "cell_type": "code",
      "execution_count": 28,
      "metadata": {
        "colab": {
          "base_uri": "https://localhost:8080/"
        },
        "id": "iNMEmjV2ID5c",
        "outputId": "dbdc47ab-2bb5-4935-e636-e4911441411e"
      },
      "outputs": [
        {
          "name": "stdout",
          "output_type": "stream",
          "text": [
            "enter Coffecient of objective functio in martix form\n",
            "23 23 34\n"
          ]
        }
      ],
      "source": [
        "print('enter Coffecient of objective functio in martix form')\n",
        "x=input()\n",
        "x=x.split(' ')"
      ]
    },
    {
      "cell_type": "code",
      "execution_count": 29,
      "metadata": {
        "colab": {
          "base_uri": "https://localhost:8080/"
        },
        "id": "1S_DZGSiIkWp",
        "outputId": "62b6e789-6c7c-4dac-f553-64e7d3663117"
      },
      "outputs": [
        {
          "data": {
            "text/plain": [
              "3"
            ]
          },
          "execution_count": 29,
          "metadata": {},
          "output_type": "execute_result"
        }
      ],
      "source": [
        "obj=[]\n",
        "for i in x:\n",
        "  if i.isnumeric():\n",
        "    obj.append(int(i))\n",
        "len(obj)\n"
      ]
    },
    {
      "cell_type": "code",
      "execution_count": 41,
      "metadata": {
        "id": "p53YMqL0ooyE"
      },
      "outputs": [],
      "source": [
        "bn1=[]\n",
        "for z in range(len(obj)):\n",
        "\n",
        "  bn1.append(((0, float(\"inf\"))))\n",
        "\n",
        "bnd = bn1"
      ]
    },
    {
      "cell_type": "code",
      "execution_count": 30,
      "metadata": {
        "colab": {
          "base_uri": "https://localhost:8080/"
        },
        "id": "gpkJymLWKp7Q",
        "outputId": "5efed51e-1551-4e2f-8ca1-83d8ac937c28"
      },
      "outputs": [
        {
          "name": "stdout",
          "output_type": "stream",
          "text": [
            "enter no of inequality ristriction \n",
            "2\n",
            "enter Coffecient of inequality functions in martix   form sapateted by space\n",
            "23 23 34\n",
            "[23, 23, 34]\n",
            "enter Coffecient of inequality functions in martix   form sapateted by space\n",
            "23 45 23\n",
            "[23, 45, 23]\n"
          ]
        },
        {
          "data": {
            "text/plain": [
              "2"
            ]
          },
          "execution_count": 30,
          "metadata": {},
          "output_type": "execute_result"
        }
      ],
      "source": [
        "print ('enter no of inequality ristriction ')\n",
        "x=int (input())\n",
        "\n",
        "lhs_ineq=[]\n",
        "for i in range(x):\n",
        "  lhs=[]\n",
        "  print('enter Coffecient of inequality functions in martix \\\n",
        "  form sapateted by space')\n",
        "  j=input()\n",
        "  j=j.split(' ')\n",
        "  for k in j:\n",
        "    if k.isnumeric():\n",
        "      lhs.append((int(k)))\n",
        "  print(lhs)\n",
        "  if len(lhs)==len(obj):\n",
        "    lhs_ineq.append(lhs)\n",
        "  else:\n",
        "    print('number of LPP variable Mismatch')\n",
        "len(lhs_ineq)"
      ]
    },
    {
      "cell_type": "code",
      "execution_count": 31,
      "metadata": {
        "colab": {
          "base_uri": "https://localhost:8080/"
        },
        "id": "sfgnqUUw8_T4",
        "outputId": "22e318d1-449a-419d-a6db-1a11ce4e3d99"
      },
      "outputs": [
        {
          "name": "stdout",
          "output_type": "stream",
          "text": [
            "enter RHS of inequality constraint i.e.  b column only for inequality\n",
            "23 43\n"
          ]
        },
        {
          "data": {
            "text/plain": [
              "[23, 43]"
            ]
          },
          "execution_count": 31,
          "metadata": {},
          "output_type": "execute_result"
        }
      ],
      "source": [
        "print('enter RHS of inequality constraint i.e.  b column only for inequality')\n",
        "rhs_ineq=[]\n",
        "y=input().split(' ')\n",
        "if len(y)==x:\n",
        "  for i in y:\n",
        "    if i.isnumeric():\n",
        "      rhs_ineq.append(int(i))\n",
        "else:\n",
        "  print('number of element mismatched')\n",
        "rhs_ineq\n"
      ]
    },
    {
      "cell_type": "code",
      "execution_count": 36,
      "metadata": {
        "colab": {
          "base_uri": "https://localhost:8080/"
        },
        "id": "3fOcLZfr9iXW",
        "outputId": "f565860b-85b7-420f-9dd8-1754d9f489b0"
      },
      "outputs": [
        {
          "name": "stdout",
          "output_type": "stream",
          "text": [
            "enter no of equality ristriction \n",
            "1\n",
            "enter Coffecient of equality functions in martix   form sapateted by space\n",
            "0 0 0\n",
            "[0, 0, 0]\n"
          ]
        }
      ],
      "source": [
        "print ('enter no of equality ristriction ')\n",
        "x=int (input())\n",
        "\n",
        "lhs_eq=[]\n",
        "for k in range(x):\n",
        "  lhs=[]\n",
        "  print('enter Coffecient of equality functions in martix \\\n",
        "  form sapateted by space')\n",
        "  j=input()\n",
        "  j=j.split(' ')\n",
        "  for k in j:\n",
        "    if k.isnumeric():\n",
        "      lhs.append((int(k)))\n",
        "  print(lhs)\n",
        "  if len(lhs)==len(obj):\n",
        "    lhs_eq.append(lhs)\n",
        "  else:\n",
        "    print('number of LPP variable Mismatch')"
      ]
    },
    {
      "cell_type": "code",
      "execution_count": 37,
      "metadata": {
        "colab": {
          "base_uri": "https://localhost:8080/"
        },
        "id": "bKGeADXYnKhK",
        "outputId": "8bac7b4c-f8ce-4bc9-e85d-5d728badf5a5"
      },
      "outputs": [
        {
          "data": {
            "text/plain": [
              "[[0, 0, 0]]"
            ]
          },
          "execution_count": 37,
          "metadata": {},
          "output_type": "execute_result"
        }
      ],
      "source": [
        "lhs_eq"
      ]
    },
    {
      "cell_type": "code",
      "execution_count": 38,
      "metadata": {
        "colab": {
          "base_uri": "https://localhost:8080/"
        },
        "id": "3HhBwWFz_PRc",
        "outputId": "fc8e089b-b349-4aea-aa16-ffe7bf769157"
      },
      "outputs": [
        {
          "name": "stdout",
          "output_type": "stream",
          "text": [
            "enter RHS of equality constraint i.e.  b column only for equality\n",
            "0\n"
          ]
        },
        {
          "data": {
            "text/plain": [
              "[0]"
            ]
          },
          "execution_count": 38,
          "metadata": {},
          "output_type": "execute_result"
        }
      ],
      "source": [
        "\n",
        "print('enter RHS of equality constraint i.e.  b column only for equality')\n",
        "\n",
        "rhs_eq=[]\n",
        "y=input().split(' ')\n",
        "if len(y)==x:\n",
        "  for i in y:\n",
        "    if i.isnumeric():\n",
        "      rhs_eq.append(int(i))\n",
        "else:\n",
        "  print('number of element mismatched')\n",
        "rhs_eq\n"
      ]
    },
    {
      "cell_type": "code",
      "execution_count": 42,
      "metadata": {
        "colab": {
          "base_uri": "https://localhost:8080/"
        },
        "id": "nCREMjfl_Ypd",
        "outputId": "76497b29-cb7e-454e-9256-3e5f7efbfe1a"
      },
      "outputs": [
        {
          "name": "stderr",
          "output_type": "stream",
          "text": [
            "<ipython-input-42-ec5898557db5>:2: DeprecationWarning: `method='revised simplex'` is deprecated and will be removed in SciPy 1.11.0. Please use one of the HiGHS solvers (e.g. `method='highs'`) in new code.\n",
            "  opt = linprog(c=obj, A_ub=lhs_ineq, b_ub=rhs_ineq, A_eq=lhs_eq, b_eq=rhs_eq, bounds=bnd,method=\"revised simplex\")\n"
          ]
        },
        {
          "data": {
            "text/plain": [
              " message: Optimization terminated successfully.\n",
              " success: True\n",
              "  status: 0\n",
              "     fun: 0.0\n",
              "       x: [ 0.000e+00  0.000e+00  0.000e+00]\n",
              "     nit: 0"
            ]
          },
          "execution_count": 42,
          "metadata": {},
          "output_type": "execute_result"
        }
      ],
      "source": [
        "# resistriction on lpp varible 0 to infiity\n",
        "opt = linprog(c=obj, A_ub=lhs_ineq, b_ub=rhs_ineq, A_eq=lhs_eq, b_eq=rhs_eq, bounds=bnd,method=\"revised simplex\")\n",
        "opt"
      ]
    }
  ],
  "metadata": {
    "colab": {
      "provenance": []
    },
    "kernelspec": {
      "display_name": "Python 3",
      "name": "python3"
    },
    "language_info": {
      "name": "python"
    }
  },
  "nbformat": 4,
  "nbformat_minor": 0
}
